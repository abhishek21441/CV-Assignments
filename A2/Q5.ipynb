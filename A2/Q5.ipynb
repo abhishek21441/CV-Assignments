{
 "cells": [
  {
   "cell_type": "code",
   "execution_count": 2,
   "metadata": {},
   "outputs": [
    {
     "name": "stdout",
     "output_type": "stream",
     "text": [
      "Jupyter environment detected. Enabling Open3D WebVisualizer.\n",
      "[Open3D INFO] WebRTC GUI backend enabled.\n",
      "[Open3D INFO] WebRTCWindowSystem: HTTP handshake server disabled.\n"
     ]
    }
   ],
   "source": [
    "import numpy as np\n",
    "import open3d as o3d\n",
    "import os\n",
    "\n",
    "def compute_plane_parameters(points,mean):\n",
    "    u, s, vh = np.linalg.svd(points)\n",
    "\n",
    "    normal = vh[-1]\n",
    "    offset = np.dot(normal, mean)\n",
    "    if offset <= 0:\n",
    "        offset *= -1\n",
    "        normal *= -1\n",
    "    \n",
    "    return normal, offset\n",
    "\n",
    "def compute_all_plane_parameters(pcd_dir):\n",
    "    lidar_plane_normals = []\n",
    "    lidar_offsets = []\n",
    "    for file in os.listdir(pcd_dir):\n",
    "        if file.endswith(\".pcd\"):\n",
    "            pcd_file = os.path.join(pcd_dir, file)\n",
    "            pcd = o3d.io.read_point_cloud(pcd_file)\n",
    "            points = np.asarray(pcd.points)\n",
    "            mean = np.mean(points, axis = 0)\n",
    "            points -=  mean\n",
    "            normal, offset = compute_plane_parameters(points,mean)\n",
    "            lidar_plane_normals.append(normal)\n",
    "            lidar_offsets.append(offset)\n",
    "    lidar_plane_normals = np.array(lidar_plane_normals)\n",
    "    lidar_offsets = np.array(lidar_offsets)\n",
    "\n",
    "    return lidar_plane_normals, lidar_offsets"
   ]
  },
  {
   "cell_type": "code",
   "execution_count": 3,
   "metadata": {},
   "outputs": [
    {
     "name": "stdout",
     "output_type": "stream",
     "text": [
      "(38, 3)\n",
      "(38,)\n",
      "[ 4.9938113   4.72077966  5.20430555  4.79350163  5.22080334  5.70252458\n",
      "  6.32357222  6.44543972  5.67425846  5.74369429  5.06235221  4.95401545\n",
      "  5.25498423  6.10364557  5.43672051  8.2131326   7.43554678  8.0209935\n",
      "  9.49902545 10.30997961  8.14058237  8.72427267  7.27175232  6.59505822\n",
      "  6.98783595  6.58956459  4.772067    3.70387562  3.97154215  7.61870018\n",
      "  6.09367868  5.97813104  6.26535812  7.32519714  8.49322105  8.84616892\n",
      "  7.74946415  6.96918888]\n",
      "10.309979614425066\n"
     ]
    }
   ],
   "source": [
    "pcd_dir = 'CV-A2-Q5\\lidar_scans'\n",
    "\n",
    "lidar_plane_normals, lidar_offsets = compute_all_plane_parameters(pcd_dir)\n",
    "\n",
    "\n",
    "print(lidar_plane_normals.shape)\n",
    "print(lidar_offsets.shape)\n",
    "print(lidar_offsets)\n",
    "print(max(lidar_offsets))"
   ]
  },
  {
   "cell_type": "code",
   "execution_count": 4,
   "metadata": {},
   "outputs": [
    {
     "name": "stdout",
     "output_type": "stream",
     "text": [
      "(38, 3)\n",
      "(38, 3, 3)\n",
      "(38, 3)\n"
     ]
    }
   ],
   "source": [
    "def read_camera_normals(file_path):\n",
    "    with open(file_path, 'r') as file:\n",
    "        lines = file.readlines()\n",
    "        normal = np.array([float(line.strip()) for line in lines])\n",
    "    return normal\n",
    "\n",
    "def read_rotation_matrix(file_path):\n",
    "    with open(file_path, 'r') as file:\n",
    "        lines = file.readlines()\n",
    "        rotation_matrix = np.array([[float(value) for value in line.strip().split()] for line in lines])\n",
    "    return rotation_matrix\n",
    "\n",
    "def read_translation_vector(file_path):\n",
    "    with open(file_path, 'r') as file:\n",
    "        lines = file.readlines()\n",
    "        translation_vector = np.array([float(line.strip()) for line in lines])\n",
    "    return translation_vector\n",
    "\n",
    "camera_dir = 'CV-A2-Q5\\camera_parameters'\n",
    "\n",
    "camera_normals = []\n",
    "rotation_matrices = []\n",
    "translation_vectors = []\n",
    "\n",
    "for frame_folder in os.listdir(camera_dir):\n",
    "    # print(frame_folder)\n",
    "    frame_folder_path = os.path.join(camera_dir, frame_folder)\n",
    "    if os.path.isdir(frame_folder_path):\n",
    "        # print(frame_folder_path)\n",
    "        normals_file_path = os.path.join(frame_folder_path, 'camera_normals.txt')\n",
    "        rotation_matrix_file_path = os.path.join(frame_folder_path, 'rotation_matrix.txt')\n",
    "        translation_vector_file_path = os.path.join(frame_folder_path, 'translation_vectors.txt')\n",
    " \n",
    "        normal = read_camera_normals(normals_file_path)\n",
    "        rotation_matrix = read_rotation_matrix(rotation_matrix_file_path)\n",
    "        translation_vector = read_translation_vector(translation_vector_file_path)\n",
    "\n",
    "        camera_normals.append(normal)\n",
    "        rotation_matrices.append(rotation_matrix)\n",
    "        translation_vectors.append(translation_vector)\n",
    "\n",
    "camera_normals = np.array(camera_normals)\n",
    "rotation_matrices = np.array(rotation_matrices)\n",
    "translation_vectors = np.array(translation_vectors)\n",
    "\n",
    "print(camera_normals.shape)\n",
    "print(rotation_matrices.shape)\n",
    "print(translation_vectors.shape)"
   ]
  },
  {
   "cell_type": "markdown",
   "metadata": {},
   "source": [
    "Find the shifted origin in world "
   ]
  },
  {
   "cell_type": "code",
   "execution_count": 5,
   "metadata": {},
   "outputs": [
    {
     "name": "stdout",
     "output_type": "stream",
     "text": [
      "(38, 3)\n"
     ]
    }
   ],
   "source": [
    "new_origins = []\n",
    "\n",
    "for i in range(len(rotation_matrices)):\n",
    "    translated_origin = np.array([0, 0, 0]) - translation_vectors[i]\n",
    "\n",
    "    rotated_origin = np.dot(rotation_matrices[i], translated_origin)\n",
    "\n",
    "    new_origins.append(rotated_origin)\n",
    "\n",
    "new_origins = np.array(new_origins)\n",
    "\n",
    "print(new_origins.shape)"
   ]
  },
  {
   "cell_type": "markdown",
   "metadata": {},
   "source": [
    "Find the offset for each image and store it"
   ]
  },
  {
   "cell_type": "code",
   "execution_count": 6,
   "metadata": {},
   "outputs": [
    {
     "name": "stdout",
     "output_type": "stream",
     "text": [
      "(38, 3)\n",
      "(38,)\n"
     ]
    }
   ],
   "source": [
    "import copy\n",
    "camera_offsets = []\n",
    "new_camera_normals = []\n",
    "\n",
    "for i in range(len(new_origins)):\n",
    "    camera_normal = camera_normals[i]\n",
    "\n",
    "    new_origin = new_origins[i]\n",
    "\n",
    "    offset = -np.dot(camera_normal, new_origin)\n",
    "    if offset <= 0 :\n",
    "        offset *= -1\n",
    "        camera_normal *= -1\n",
    "        new_camera_normals.append(camera_normal)\n",
    "    else:\n",
    "        new_camera_normals.append(camera_normal)\n",
    "    \n",
    "    camera_offsets.append(offset)\n",
    "\n",
    "camera_offsets = np.array(camera_offsets)\n",
    "\n",
    "camera_normals = np.array(copy.deepcopy(new_camera_normals))\n",
    "print(camera_normals.shape)\n",
    "print(camera_offsets.shape)"
   ]
  },
  {
   "cell_type": "code",
   "execution_count": 35,
   "metadata": {},
   "outputs": [
    {
     "name": "stdout",
     "output_type": "stream",
     "text": [
      "[ 4.9938113   4.72077966  5.20430555  4.79350163  5.22080334  5.70252458\n",
      "  6.32357222  6.44543972  5.67425846  5.74369429  5.06235221  4.95401545\n",
      "  5.25498423  6.10364557  5.43672051  8.2131326   7.43554678  8.0209935\n",
      "  9.49902545 10.30997961  8.14058237  8.72427267  7.27175232  6.59505822\n",
      "  6.98783595  6.58956459  4.772067    3.70387562  3.97154215  7.61870018\n",
      "  6.09367868  5.97813104  6.26535812  7.32519714  8.49322105  8.84616892\n",
      "  7.74946415  6.96918888]\n"
     ]
    }
   ],
   "source": [
    "print(lidar_offsets)"
   ]
  },
  {
   "cell_type": "code",
   "execution_count": 36,
   "metadata": {},
   "outputs": [
    {
     "name": "stdout",
     "output_type": "stream",
     "text": [
      "[4.40727584 4.89556664 4.88480759 4.94436213 5.64515455 5.88719251\n",
      " 5.48527475 6.20411657 5.44359777 5.39575113 4.08495003 4.47950227\n",
      " 4.69488219 5.26968172 4.88721444 7.57451409 7.29468237 7.69113637\n",
      " 9.18673335 9.19848412 7.15808026 8.66354827 8.04161049 7.13507991\n",
      " 5.75399516 5.47658268 4.24145183 4.35808307 3.16382492 6.80014164\n",
      " 5.5183504  6.01885964 5.63948866 6.73460311 7.91434177 8.27922574\n",
      " 7.36643512 5.96640208]\n"
     ]
    }
   ],
   "source": [
    "print(camera_offsets)"
   ]
  },
  {
   "cell_type": "code",
   "execution_count": 37,
   "metadata": {},
   "outputs": [
    {
     "name": "stdout",
     "output_type": "stream",
     "text": [
      "[-0.58653545  0.17478698 -0.31949796  0.1508605   0.42435122  0.18466794\n",
      " -0.83829747 -0.24132315 -0.23066069 -0.34794316 -0.97740218 -0.47451318\n",
      " -0.56010203 -0.83396385 -0.54950607 -0.63861851 -0.14086441 -0.32985713\n",
      " -0.3122921  -1.11149549 -0.98250211 -0.0607244   0.76985817  0.54002169\n",
      " -1.23384079 -1.11298191 -0.53061517  0.65420745 -0.80771723 -0.81855854\n",
      " -0.57532828  0.04072861 -0.62586946 -0.59059403 -0.57887928 -0.56694318\n",
      " -0.38302903 -1.0027868 ]\n"
     ]
    }
   ],
   "source": [
    "print(camera_offsets-lidar_offsets)"
   ]
  },
  {
   "cell_type": "markdown",
   "metadata": {},
   "source": [
    "Estimate Lidar translate vectors"
   ]
  },
  {
   "cell_type": "code",
   "execution_count": null,
   "metadata": {},
   "outputs": [],
   "source": [
    "camera_normals_real = camera_normals.T\n",
    "print(camera_normals_real.shape)\n",
    "\n",
    "theta_c_theta_c_transpose = np.matmul(camera_normals_real, camera_normals_real.T)\n",
    "print(theta_c_theta_c_transpose.shape)\n",
    "\n",
    "theta_c_theta_c_transpose_inv = np.linalg.inv(theta_c_theta_c_transpose) # -------- (i)\n",
    "print(theta_c_theta_c_transpose_inv.shape)\n",
    "\n",
    "offset_difference = camera_offsets - lidar_offsets # ---------- (i)\n",
    "print(offset_difference.shape)\n",
    "\n",
    "lidar_translate_vectors = np.matmul(np.matmul(theta_c_theta_c_transpose_inv,camera_normals_real,),offset_difference)\n",
    "\n",
    "print(lidar_translate_vectors)"
   ]
  },
  {
   "cell_type": "markdown",
   "metadata": {},
   "source": [
    "Estimate Lidar rotation matrix"
   ]
  },
  {
   "cell_type": "code",
   "execution_count": 10,
   "metadata": {},
   "outputs": [
    {
     "name": "stdout",
     "output_type": "stream",
     "text": [
      "(3, 3)\n",
      "(3, 3)\n",
      "[[-1.75158876e-01 -9.84540172e-01  1.36164316e-04]\n",
      " [ 1.53559935e-02 -2.87025999e-03 -9.99877970e-01]\n",
      " [ 9.84420419e-01 -1.75135410e-01  1.56213440e-02]]\n",
      "1.0000000000000009\n"
     ]
    }
   ],
   "source": [
    "lidar_plane_normals_real = lidar_plane_normals.T\n",
    "u, s, vh = np.linalg.svd(np.matmul(lidar_plane_normals_real,camera_normals)) # ------- (i)\n",
    "print(np.matmul(lidar_plane_normals_real,camera_normals).shape)\n",
    "lidar_rotation_matrix = np.matmul(vh.T,u.T)\n",
    "# lidar_rotation_matrix[-1] *= -1\n",
    "print(lidar_rotation_matrix.shape)\n",
    "print(lidar_rotation_matrix)\n",
    "determinant = np.linalg.det(lidar_rotation_matrix)\n",
    "print(determinant)"
   ]
  },
  {
   "cell_type": "code",
   "execution_count": null,
   "metadata": {},
   "outputs": [],
   "source": [
    "def transformation_matrix(lidar_point):\n",
    "    tl = lidar_point + lidar_translate_vectors\n",
    "    rl = np.matmul(lidar_rotation_matrix,tl)\n",
    "\n",
    "    return rl"
   ]
  },
  {
   "cell_type": "markdown",
   "metadata": {},
   "source": [
    "Estimating Camera points using Lidar points"
   ]
  },
  {
   "cell_type": "markdown",
   "metadata": {},
   "source": [
    "Plotting and Cosine Similarities"
   ]
  },
  {
   "cell_type": "code",
   "execution_count": 11,
   "metadata": {},
   "outputs": [
    {
     "data": {
      "image/png": "[encoded data removed]",
      "text/plain": [
       "<Figure size 1000x600 with 1 Axes>"
      ]
     },
     "metadata": {},
     "output_type": "display_data"
    },
    {
     "name": "stdout",
     "output_type": "stream",
     "text": [
      "Average Error: 0.0006469021634401726\n",
      "Standard Deviation: 0.0026610000720887527\n"
     ]
    }
   ],
   "source": [
    "from sklearn.metrics.pairwise import cosine_similarity\n",
    "import matplotlib.pyplot as plt\n",
    "\n",
    "cosine_distances = []\n",
    "c_norm_est_list = []\n",
    "\n",
    "for i in range(38):\n",
    "    l_norm = lidar_plane_normals[i]\n",
    "    l_rotmat = lidar_rotation_matrix\n",
    "    c_norm_est = np.matmul(l_rotmat, l_norm)\n",
    "    c_norm_est_list.append(c_norm_est)\n",
    "    v1 = c_norm_est.reshape(1, -1)\n",
    "    v2 = camera_normals[i].reshape(1, -1)\n",
    "\n",
    "    cosine_sim = cosine_similarity(v1, v2)\n",
    "    cosine_dist = 1 - cosine_sim\n",
    "\n",
    "    cosine_distances.append(cosine_dist[0][0])\n",
    "\n",
    "plt.figure(figsize=(10, 6))\n",
    "plt.plot(range(1, 39), cosine_distances, marker='o', linestyle='-')\n",
    "plt.title('Cosine Distances between LIDAR and Camera Normals')\n",
    "plt.xlabel('Image Number')\n",
    "plt.ylabel('Cosine Distance')\n",
    "plt.grid(True)\n",
    "plt.xticks(range(1, 39))\n",
    "plt.show()   \n",
    "\n",
    "average_error = np.mean(cosine_distances)\n",
    "std_deviation = np.std(cosine_distances)\n",
    "\n",
    "print(\"Average Error:\", average_error)\n",
    "print(\"Standard Deviation:\", std_deviation)"
   ]
  },
  {
   "cell_type": "markdown",
   "metadata": {},
   "source": [
    "Calculate and stroe the projected points"
   ]
  },
  {
   "cell_type": "code",
   "execution_count": 22,
   "metadata": {},
   "outputs": [],
   "source": [
    "import cv2\n",
    "\n",
    "path = \"CV-A2-Q5\\camera_parameters\\camera_intrinsic.txt\"\n",
    "path2 = \"CV-A2-Q5\\camera_parameters\\distortion.txt\"\n",
    "intrinsic_params = np.loadtxt(path)\n",
    "dist = np.loadtxt(path2)\n",
    "intrinsic_params = intrinsic_params.reshape(3, 3)\n",
    "dist = dist.reshape(5,)\n",
    "\n",
    "def lidar_points_cam(lidar_points, lidar_rotation_matrix, lidar_translate_vectors, intrinsic_params):\n",
    "    projected_points = cv2.projectPoints(lidar_points, lidar_rotation_matrix, lidar_translate_vectors, intrinsic_params, dist)[0][:, 0, :]\n",
    "    return projected_points"
   ]
  },
  {
   "cell_type": "code",
   "execution_count": 24,
   "metadata": {},
   "outputs": [
    {
     "name": "stdout",
     "output_type": "stream",
     "text": [
      "(120, 2)\n",
      "862.7129490431699 455.95320517183785\n"
     ]
    }
   ],
   "source": [
    "pcd_dir = 'CV-A2-Q5/lidar_scans'\n",
    "\n",
    "lidar_points_list = []\n",
    "\n",
    "for file in os.listdir(pcd_dir):\n",
    "    if file.endswith(\".pcd\"):\n",
    "        pcd_file = os.path.join(pcd_dir, file)\n",
    "        # Read the .pcd file\n",
    "        pcd = o3d.io.read_point_cloud(pcd_file)\n",
    "        # Convert to numpy array\n",
    "        points = np.asarray(pcd.points)\n",
    "\n",
    "        projected_points = lidar_points_cam(points, lidar_rotation_matrix, lidar_translate_vectors, intrinsic_params)\n",
    "        lidar_points_list.append(projected_points)\n",
    "\n",
    "print(projected_points.shape)\n",
    "\n",
    "start_x,start_y = np.mean(projected_points,axis = 0)\n",
    "print(start_x,start_y)"
   ]
  },
  {
   "cell_type": "code",
   "execution_count": 20,
   "metadata": {},
   "outputs": [
    {
     "name": "stdout",
     "output_type": "stream",
     "text": [
      "[[819.98151863 467.71982301]\n",
      " [820.01237041 443.27588715]\n",
      " [820.12663682 419.02678866]\n",
      " [822.32301478 492.46059337]\n",
      " [822.52023267 467.75391509]\n",
      " [822.52819361 443.31669781]\n",
      " [822.64032537 419.04596364]\n",
      " [824.83379325 492.561692  ]\n",
      " [824.9254023  467.80271   ]\n",
      " [825.04190783 443.36825915]\n",
      " [825.16059147 419.06174798]\n",
      " [827.23757332 492.64277341]\n",
      " [827.30188817 467.89584008]\n",
      " [827.55932586 419.07653823]\n",
      " [829.66130087 492.70825151]\n",
      " [829.84166215 467.95024957]\n",
      " [830.00082628 443.40405304]\n",
      " [829.95780499 419.09932717]\n",
      " [832.33440527 492.79425166]\n",
      " [832.38891905 468.0028004 ]\n",
      " [832.52801492 443.45788015]\n",
      " [832.63171544 419.0947225 ]\n",
      " [834.88387473 492.87935632]\n",
      " [835.07074535 468.05717263]\n",
      " [835.19352339 443.50493548]\n",
      " [835.18009557 419.09664017]\n",
      " [837.56333513 492.97330835]\n",
      " [837.84619267 419.12355376]\n",
      " [840.04268653 468.1900802 ]\n",
      " [840.03870772 443.58075866]\n",
      " [840.12599163 419.16191558]\n",
      " [842.42075081 493.15290945]\n",
      " [842.59077252 468.27035971]\n",
      " [842.60210233 443.61385346]\n",
      " [842.68431688 419.1727593 ]\n",
      " [845.00631692 493.22904701]\n",
      " [845.14882255 468.34592577]\n",
      " [845.28838    443.66409239]\n",
      " [845.25582504 419.17230194]\n",
      " [847.68940106 493.34636282]\n",
      " [847.74099391 468.39023526]\n",
      " [847.95838974 419.17759042]\n",
      " [850.25730838 493.4526333 ]\n",
      " [850.41855437 443.76497593]\n",
      " [850.52006027 419.20912791]\n",
      " [852.83862752 493.55307767]\n",
      " [853.0263538  468.53642329]\n",
      " [853.02054439 443.7804476 ]\n",
      " [853.08948729 419.23721171]\n",
      " [855.43676225 493.64519701]\n",
      " [855.60337548 468.61966185]\n",
      " [855.59799589 443.83459932]\n",
      " [855.65578008 419.27754031]\n",
      " [858.03815985 493.7412797 ]\n",
      " [858.1914618  468.69814504]\n",
      " [858.26445726 419.26718362]\n",
      " [860.78517816 468.77783668]\n",
      " [860.78079087 443.93149535]\n",
      " [860.85916196 419.28475691]\n",
      " [863.22656983 493.9654867 ]\n",
      " [863.39358619 468.84976898]\n",
      " [863.36882367 443.99510577]\n",
      " [863.45976298 419.30275331]\n",
      " [865.81865297 494.08870511]\n",
      " [865.8749711  468.92143582]\n",
      " [865.99287163 444.02467182]\n",
      " [866.04796533 419.34507252]\n",
      " [868.33508731 494.16781151]\n",
      " [868.34949385 469.00621506]\n",
      " [868.45900476 444.09039203]\n",
      " [868.51458425 419.38216053]\n",
      " [870.82354691 494.275768  ]\n",
      " [871.05605848 419.33163308]\n",
      " [873.45511172 494.38626104]\n",
      " [873.62456219 469.14311003]\n",
      " [873.56290476 444.19937845]\n",
      " [873.66788948 419.36738233]\n",
      " [876.06699156 494.51850043]\n",
      " [876.26080522 469.22394153]\n",
      " [876.19570854 444.24968673]\n",
      " [876.28567258 419.40364308]\n",
      " [878.71106818 494.63233873]\n",
      " [878.88338491 469.32427978]\n",
      " [878.9195108  419.42828211]\n",
      " [881.39927262 494.72009774]\n",
      " [881.69143989 419.45527877]\n",
      " [884.18303404 494.84872261]\n",
      " [884.27530013 469.53676438]\n",
      " [884.42219593 444.38749805]\n",
      " [884.48813935 419.46242285]\n",
      " [886.95998112 494.98942129]\n",
      " [886.96933744 469.59543632]\n",
      " [887.04360889 444.48051254]\n",
      " [887.13909833 419.49259311]\n",
      " [889.48853372 495.11123825]\n",
      " [889.49531403 469.68694621]\n",
      " [889.57039974 444.53891449]\n",
      " [889.65670542 419.52950972]\n",
      " [892.01951199 495.23718886]\n",
      " [892.14227727 469.80004537]\n",
      " [892.17291977 419.57510575]\n",
      " [894.86499945 495.35028347]\n",
      " [894.94666992 444.62943522]\n",
      " [894.96142706 419.62521661]\n",
      " [897.52477497 495.49923093]\n",
      " [897.63807019 469.99576664]\n",
      " [897.74584777 444.71201102]\n",
      " [897.67670178 419.6163755 ]\n",
      " [900.3522987  495.6391151 ]\n",
      " [900.38233631 470.05147141]\n",
      " [900.4297409  444.78118624]\n",
      " [900.49955685 419.64703964]\n",
      " [902.92212397 495.76436341]\n",
      " [903.03742837 470.18572105]\n",
      " [903.04200624 419.69481505]\n",
      " [905.61021926 495.91373254]\n",
      " [905.69217581 444.91145503]\n",
      " [905.74134891 419.72865757]\n",
      " [908.34393723 470.36638687]\n",
      " [908.41785503 444.96535913]]\n"
     ]
    }
   ],
   "source": [
    "print(projected_points)"
   ]
  },
  {
   "cell_type": "markdown",
   "metadata": {},
   "source": [
    "Plot all 3 normals on the images"
   ]
  },
  {
   "cell_type": "code",
   "execution_count": 31,
   "metadata": {},
   "outputs": [],
   "source": [
    "img_list = [\"frame_1061.jpeg\", \"frame_1075.jpeg\", \"frame_1093.jpeg\", \"frame_1139.jpeg\", \"frame_1153.jpeg\"]\n",
    "img_path = \"CV-A2-Q5/camera_images/\"\n",
    "for i in range(5):\n",
    "    image = cv2.imread(os.path.join(img_path, img_list[i]))\n",
    "    start_x,start_y = np.mean(lidar_points_list[i],axis = 0)\n",
    "\n",
    "    end_lidar_point_x = start_x - (lidar_plane_normals[i][0]*100)\n",
    "    end_lidar_point_y = start_y - (lidar_plane_normals[i][1]*100)\n",
    "\n",
    "    end_camera_point_x = start_x - (camera_normals[i][0]*100)\n",
    "    end_camera_point_y = start_y - (camera_normals[i][1]*100)\n",
    "\n",
    "    end_est_point_x = start_x - (c_norm_est_list[i][0]*100)\n",
    "    end_est_point_y = start_y - (c_norm_est_list[i][1]*100)\n",
    "    \n",
    "    #LIDAR\n",
    "    cv2.arrowedLine(image,(int(start_x), int(start_y)), (int(end_lidar_point_x),int(end_lidar_point_y)), (255,0,0), 3)\n",
    "\n",
    "    #CAMERA\n",
    "    cv2.arrowedLine(image,(int(start_x), int(start_y)), (int(end_camera_point_x),int(end_camera_point_y)), (0,255,0), 3)\n",
    "\n",
    "    #CAM_ESTIMATE\n",
    "    cv2.arrowedLine(image,(int(start_x), int(start_y)), (int(end_est_point_x),int(end_est_point_y)), (0,0,255), 3)\n",
    "\n",
    "    cv2.imwrite(f\"Normals{i}.jpeg\",image)"
   ]
  },
  {
   "cell_type": "markdown",
   "metadata": {},
   "source": [
    "Plot the reprojected points onto the images"
   ]
  },
  {
   "cell_type": "code",
   "execution_count": 34,
   "metadata": {},
   "outputs": [],
   "source": [
    "img_path = \"CV-A2-Q5/camera_images/\"\n",
    "\n",
    "for i in range(5):\n",
    "    image = cv2.imread(os.path.join(img_path, img_list[i]))\n",
    "    for j in range(len(lidar_points_list[i])):\n",
    "        cv2.circle(image, (int(lidar_points_list[i][j][0]), int(lidar_points_list[i][j][1])), 2, (0, 0, 255), -1)\n",
    "    \n",
    "    cv2.imwrite(f\"Points{i}.jpeg\",image)\n",
    "    "
   ]
  }
 ],
 "metadata": {
  "kernelspec": {
   "display_name": "Python 3",
   "language": "python",
   "name": "python3"
  },
  "language_info": {
   "codemirror_mode": {
    "name": "ipython",
    "version": 3
   },
   "file_extension": ".py",
   "mimetype": "text/x-python",
   "name": "python",
   "nbconvert_exporter": "python",
   "pygments_lexer": "ipython3",
   "version": "3.10.9"
  }
 },
 "nbformat": 4,
 "nbformat_minor": 2
}
